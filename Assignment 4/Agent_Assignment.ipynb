{
 "cells": [
  {
   "cell_type": "markdown",
   "id": "aa1829a7",
   "metadata": {},
   "source": [
    "Assignment:4\n",
    "1. You have to create one supervisor node.\n",
    "2. create one router function\n",
    "3. create three more node \n",
    "   3.1 llm call (llm node)\n",
    "   3.2 RAG (rag node)\n",
    "   3.3 web crawler(fetch the info in realtime from internet)\n",
    "4. created one more node after this for validation for generated output --> explore the validation part how to do that\n",
    "5. if validation going to be failed in that case again go to supervioser node and then supervisor node will again decide what needs to be call next\n",
    "6. once the validation will pass then only generate the final output"
   ]
  },
  {
   "cell_type": "code",
   "execution_count": 1,
   "id": "3b9161db",
   "metadata": {},
   "outputs": [],
   "source": [
    "import os\n",
    "from dotenv import load_dotenv\n",
    "\n",
    "# Load environment variables from .env file\n",
    "load_dotenv()\n",
    "\n",
    "TAVILY_API_KEY = os.getenv(\"TAVILY_API_KEY\")\n",
    "GROQ_API_KEY = os.getenv(\"GROQ_API_KEY\")\n",
    "os.environ[\"GROQ_API_KEY\"] = GROQ_API_KEY\n"
   ]
  },
  {
   "cell_type": "code",
   "execution_count": 2,
   "id": "f96195d0",
   "metadata": {},
   "outputs": [
    {
     "name": "stdout",
     "output_type": "stream",
     "text": [
      "API keys loaded successfully!\n"
     ]
    }
   ],
   "source": [
    "if GROQ_API_KEY and TAVILY_API_KEY:\n",
    "    print(\"API keys loaded successfully!\")\n",
    "else:\n",
    "    print(\"Error: Missing API keys. Please check your .env file.\")"
   ]
  },
  {
   "cell_type": "markdown",
   "id": "53a417b2",
   "metadata": {},
   "source": [
    "### Configure the model"
   ]
  },
  {
   "cell_type": "code",
   "execution_count": 3,
   "id": "e08ff9de",
   "metadata": {},
   "outputs": [],
   "source": [
    "# Loading the model\n",
    "#from langchain_google_genai import ChatGoogleGenerativeAI\n",
    "#model = ChatGoogleGenerativeAI(model='gemini-1.5-flash')\n",
    "#output = model.invoke(\"Hi\")\n",
    "#output\n",
    "\n",
    "from langchain_groq import ChatGroq\n",
    "model = ChatGroq(model_name=\"deepseek-r1-distill-llama-70b\", temperature=0)\n"
   ]
  },
  {
   "cell_type": "markdown",
   "id": "592fc0d8",
   "metadata": {},
   "source": [
    "### Configure the Embedding Model"
   ]
  },
  {
   "cell_type": "code",
   "execution_count": 4,
   "id": "4d986feb",
   "metadata": {},
   "outputs": [
    {
     "name": "stderr",
     "output_type": "stream",
     "text": [
      "/Users/ankita/Documents/Krish Naik Academy/Agentic Batch 2/Langraph/langraph_venv/lib/python3.11/site-packages/tqdm/auto.py:21: TqdmWarning: IProgress not found. Please update jupyter and ipywidgets. See https://ipywidgets.readthedocs.io/en/stable/user_install.html\n",
      "  from .autonotebook import tqdm as notebook_tqdm\n"
     ]
    },
    {
     "data": {
      "text/plain": [
       "384"
      ]
     },
     "execution_count": 4,
     "metadata": {},
     "output_type": "execute_result"
    }
   ],
   "source": [
    "# It pulls the model from Hugging Face only once (when not cached locally), then runs locally on your machine.\n",
    "from langchain_huggingface import HuggingFaceEmbeddings\n",
    "embeddings = HuggingFaceEmbeddings(model_name = \"BAAI/bge-small-en\")\n",
    "len(embeddings.embed_query(\"hi\"))"
   ]
  },
  {
   "cell_type": "markdown",
   "id": "40b738b8",
   "metadata": {},
   "source": [
    "### Load the data and embed the document"
   ]
  },
  {
   "cell_type": "code",
   "execution_count": 5,
   "id": "68b817e2",
   "metadata": {},
   "outputs": [],
   "source": [
    "from langchain_community.document_loaders import PyPDFLoader\n",
    "from langchain_community.vectorstores import Chroma\n",
    "from langchain.text_splitter import RecursiveCharacterTextSplitter\n",
    "\n",
    "FILE_PATH = \"/Users/ankita/Documents/Krish Naik Academy/Agentic Batch 2/Langraph/data/science.pdf\"  # Change this to your PDF path\n",
    "loader = PyPDFLoader(FILE_PATH)\n",
    "docs = loader.load()"
   ]
  },
  {
   "cell_type": "code",
   "execution_count": 6,
   "id": "2db912f6",
   "metadata": {},
   "outputs": [
    {
     "data": {
      "text/plain": [
       "24"
      ]
     },
     "execution_count": 6,
     "metadata": {},
     "output_type": "execute_result"
    }
   ],
   "source": [
    "#docs\n",
    "len(docs)"
   ]
  },
  {
   "cell_type": "code",
   "execution_count": 7,
   "id": "0c48deab",
   "metadata": {},
   "outputs": [],
   "source": [
    "text_splitter=RecursiveCharacterTextSplitter(chunk_size=300,chunk_overlap=50)\n",
    "new_docs = text_splitter.split_documents(docs)\n",
    "new_docs\n",
    "\n",
    "db=Chroma.from_documents(new_docs,embeddings)\n",
    "retriever=db.as_retriever(search_kwargs={\"k\": 3})"
   ]
  },
  {
   "cell_type": "code",
   "execution_count": 8,
   "id": "0222ad42",
   "metadata": {},
   "outputs": [
    {
     "data": {
      "text/plain": [
       "[Document(metadata={'moddate': '2025-04-01T14:55:11+05:30', 'trapped': '/False', 'page_label': '227', 'creationdate': '2024-10-04T15:03:49+05:30', 'total_pages': 24, 'creator': 'Adobe InDesign CS6 (Windows)', 'page': 20, 'source': '/Users/ankita/Documents/Krish Naik Academy/Agentic Batch 2/Langraph/data/science.pdf', 'producer': 'Adobe PDF Library 10.0.1'}, page_content='(ii)  Machines are a resource found in nature.  [   ]\\n(iii)  Natural gas is a non-renewable resource.  [   ]\\n(iv)  Air is a renewable resource.  [   ]\\nChapter 11.indd   227 10/4/2024   3:05:55 PM\\nReprint 2025-26'),\n",
       " Document(metadata={'total_pages': 24, 'creationdate': '2024-10-04T15:03:49+05:30', 'moddate': '2025-04-01T14:55:11+05:30', 'page': 16, 'source': '/Users/ankita/Documents/Krish Naik Academy/Agentic Batch 2/Langraph/data/science.pdf', 'trapped': '/False', 'creator': 'Adobe InDesign CS6 (Windows)', 'page_label': '223', 'producer': 'Adobe PDF Library 10.0.1'}, page_content='we need to explore alternate sources of energy. When fossil \\nfuels are burnt, smoke and carbon dioxide gas are produced \\nwhich pollutes the air. Over-dependence on fossil fuels for \\ntransportation and as domestic fuels has resulted in large \\nscale air pollution.'),\n",
       " Document(metadata={'creationdate': '2024-10-04T15:03:49+05:30', 'moddate': '2025-04-01T14:55:11+05:30', 'source': '/Users/ankita/Documents/Krish Naik Academy/Agentic Batch 2/Langraph/data/science.pdf', 'page_label': '229', 'trapped': '/False', 'producer': 'Adobe PDF Library 10.0.1', 'total_pages': 24, 'page': 22, 'creator': 'Adobe InDesign CS6 (Windows)'}, page_content='(fossil fuels, forest, air, \\npetroleum, coal, water and non-\\nrenewable resource)\\n15. There is an increasing demand \\nof trees to meet the \\nrequirements of industries and for housing. Therefore, trees \\nare being felled. Is it justified? Discuss and prepare a brief \\nreport.\\n16.')]"
      ]
     },
     "execution_count": 8,
     "metadata": {},
     "output_type": "execute_result"
    }
   ],
   "source": [
    "retriever.invoke(\"industrial growth of usa?\")"
   ]
  },
  {
   "cell_type": "markdown",
   "id": "f9e7424f",
   "metadata": {},
   "source": [
    "### Creating Agent"
   ]
  },
  {
   "cell_type": "markdown",
   "id": "2ff58667",
   "metadata": {},
   "source": [
    "### 🧠 Supervisor Node — Classifying the Question Topic\n"
   ]
  },
  {
   "cell_type": "code",
   "execution_count": 9,
   "id": "45553a25",
   "metadata": {},
   "outputs": [],
   "source": [
    "from pydantic import BaseModel, Field\n",
    "from langchain_core.prompts import PromptTemplate\n",
    "from langchain.output_parsers import PydanticOutputParser\n",
    "from langchain_core.messages import BaseMessage\n",
    "from typing import TypedDict, Annotated, Sequence\n",
    "import operator\n",
    "\n",
    "class ScienceTopicParser(BaseModel):\n",
    "    Topic: str = Field(description=\"Is the topic related to science? (Science or Not Related)\")\n",
    "\n",
    "parser = PydanticOutputParser(pydantic_object=ScienceTopicParser)\n",
    "\n",
    "from typing import TypedDict, Annotated, Sequence\n",
    "from langchain_core.messages import BaseMessage\n",
    "import operator\n",
    "\n",
    "class AgentState(TypedDict):\n",
    "    messages: Annotated[Sequence[str], operator.add]\n",
    "    validated: bool\n",
    "\n",
    "def supervisor_node(state:AgentState):\n",
    "    question = state[\"messages\"][-1]\n",
    "    print(\"🧠 Supervisor received question:\", question)\n",
    "\n",
    "    template = \"\"\"\n",
    "    Your task is to classify the user query into one of the following categories: [Science, Not Related].\n",
    "    Only return the category name in the format specified.\n",
    "\n",
    "    User query: {question}\n",
    "\n",
    "    {format_instructions}\n",
    "    \"\"\"\n",
    "\n",
    "    prompt = PromptTemplate(\n",
    "        template=template,\n",
    "        input_variables=[\"question\"],\n",
    "        partial_variables={\"format_instructions\": parser.get_format_instructions()}\n",
    "    )\n",
    "\n",
    "    chain = prompt | model | parser\n",
    "    response = chain.invoke({\"question\": question})\n",
    "\n",
    "    print(\"🧭 Topic classified as:\", response.Topic)\n",
    "\n",
    "    return {\"messages\": [response.Topic]}\n",
    "\n"
   ]
  },
  {
   "cell_type": "code",
   "execution_count": 10,
   "id": "7a8e19bb",
   "metadata": {},
   "outputs": [
    {
     "name": "stdout",
     "output_type": "stream",
     "text": [
      "🧠 Supervisor received question: Why do we need water\n",
      "🧭 Topic classified as: Science\n"
     ]
    },
    {
     "data": {
      "text/plain": [
       "{'messages': ['Science']}"
      ]
     },
     "execution_count": 10,
     "metadata": {},
     "output_type": "execute_result"
    }
   ],
   "source": [
    "state = {\"messages\": [\"Why do we need water\"], \"validated\": False}\n",
    "supervisor_node(state)\n"
   ]
  },
  {
   "cell_type": "markdown",
   "id": "29f6a4e4",
   "metadata": {},
   "source": [
    "### 🔀 Router Function — Deciding Which Node to Call Next"
   ]
  },
  {
   "cell_type": "code",
   "execution_count": 11,
   "id": "31b368a2",
   "metadata": {},
   "outputs": [],
   "source": [
    "def router(state: AgentState):\n",
    "    print(\"🔀 Router running...\")\n",
    "    \n",
    "    original_message = state[\"messages\"][0].lower()\n",
    "    last_message = state[\"messages\"][-1].lower()\n",
    "\n",
    "    #print(\"last_message:\", last_message)\n",
    "    \n",
    "    if \"science\" in last_message:\n",
    "        return \"RAG Call\"\n",
    "    \n",
    "    # If it’s asking about recent or current information\n",
    "    if any(word in original_message for word in [\"current\", \"latest\", \"today\", \"news\", \"now\"]):\n",
    "        return \"WEB Call\"\n",
    "    \n",
    "    # Fallback\n",
    "    return \"LLM Call\""
   ]
  },
  {
   "cell_type": "code",
   "execution_count": 12,
   "id": "c203267e",
   "metadata": {},
   "outputs": [
    {
     "name": "stdout",
     "output_type": "stream",
     "text": [
      "🔀 Router running...\n"
     ]
    },
    {
     "data": {
      "text/plain": [
       "'LLM Call'"
      ]
     },
     "execution_count": 12,
     "metadata": {},
     "output_type": "execute_result"
    }
   ],
   "source": [
    "state = {\"messages\": [\"Why do we need water?\"], \"validated\": False}\n",
    "router(state)"
   ]
  },
  {
   "cell_type": "markdown",
   "id": "2f24f35e",
   "metadata": {},
   "source": [
    "### 📚 RAG Node — Retrieve and Generate Science Answers from PDFs\n"
   ]
  },
  {
   "cell_type": "code",
   "execution_count": 13,
   "id": "d71713e7",
   "metadata": {},
   "outputs": [],
   "source": [
    "from langchain_core.prompts import PromptTemplate\n",
    "from langchain_core.runnables import RunnablePassthrough\n",
    "from langchain_core.output_parsers import StrOutputParser\n",
    "\n",
    "def format_docs(docs):\n",
    "    return \"\\n\\n\".join(doc.page_content for doc in docs)\n",
    "\n",
    "def rag_node(state: AgentState):\n",
    "    print(\"📚 RAG Node (Science Bot) running\")\n",
    "    \n",
    "    question = state[\"messages\"][0]  # Get the latest question\n",
    "\n",
    "    # Prompt template tailored for science questions\n",
    "    prompt = PromptTemplate(\n",
    "        template=\"\"\"You are a science tutor for school kids.\n",
    "Use the following context from a science textbook to answer the question. \n",
    "Keep your answer friendly, simple, and in 2-3 short sentences.\n",
    "\n",
    "Question: {question}\n",
    "\n",
    "Context:\n",
    "{context}\n",
    "\n",
    "Answer:\"\"\",\n",
    "        input_variables=[\"context\", \"question\"]\n",
    "    )\n",
    "\n",
    "    # RAG pipeline: retrieve docs, build prompt, run model\n",
    "    rag_chain = (\n",
    "        {\"context\": retriever | format_docs, \"question\": RunnablePassthrough()}\n",
    "        | prompt\n",
    "        | model\n",
    "        | StrOutputParser()\n",
    "    )\n",
    "\n",
    "    result = rag_chain.invoke(question)\n",
    "\n",
    "    return {\"messages\": [result]}"
   ]
  },
  {
   "cell_type": "code",
   "execution_count": 14,
   "id": "219cc4fc",
   "metadata": {},
   "outputs": [
    {
     "name": "stdout",
     "output_type": "stream",
     "text": [
      "📚 RAG Node (Science Bot) running\n"
     ]
    },
    {
     "data": {
      "text/plain": [
       "{'messages': ['<think>\\nOkay, so I need to figure out why we need water based on the given context. Let me read through the context again to make sure I understand it properly.\\n\\nThe context starts by talking about freshwater, which is found in ice sheets, rivers, lakes, and underground. It mentions that we need freshwater for various activities. Then it specifically points out that we need water for drinking. It also talks about people having to walk long distances to get drinking water, which means access isn\\'t the same for everyone. It emphasizes the importance of conserving water and using it wisely, and also preventing pollution so that water remains fit for use.\\n\\nSo, the question is asking why we need water. From the context, the main points are:\\n\\n1. We need water for drinking.\\n2. Water is used for watering plants.\\n3. Not everyone has easy access to water, so we must conserve and protect it.\\n\\nI should structure the answer to include these points in a friendly and simple way, keeping it to 2-3 short sentences. I should make sure to mention drinking, watering plants, and maybe hint at conservation without making it too complicated.\\n\\nLet me try to put that together. Maybe start with the most essential need, which is drinking, then mention watering plants, and finally touch on the importance of conservation and protection against pollution.\\n\\nWait, the context also mentions that water is needed for activities beyond just drinking, like watering plants. So I should include that as another reason. Also, the part about access and conservation is more about why we need to manage water, but the question is about why we need water, so maybe focus on the uses rather than the management.\\n\\nSo, the answer should highlight the two main uses: drinking and watering plants. Maybe also mention that it\\'s essential for life, tying into the necessity.\\n\\nPutting it all together, I can say something like: We need water to drink to stay alive, to water plants so they can grow, and it\\'s important to use it wisely and keep it clean so everyone can have access.\\n\\nWait, but the question is just asking why we need water, not how to manage it. So maybe focus on the uses: drinking and watering plants. The conservation part is more about the how, not the why.\\n\\nSo, the answer could be: We need water to drink and to water plants. It\\'s essential for life and growth.\\n\\nBut looking back at the context, it specifically lists \"We need water for drinking\" and \"Watering the plants\" as bullet points, so those are the two main reasons. So the answer should include both.\\n\\nI think that\\'s a solid approach. Keep it simple, mention both uses, and maybe add a bit about its essentialness.\\n</think>\\n\\nWe need water to drink and to water plants. It\\'s essential for life and growth.']}"
      ]
     },
     "execution_count": 14,
     "metadata": {},
     "output_type": "execute_result"
    }
   ],
   "source": [
    "state = {\"messages\": [\"Why do we need water?\"], \"validated\": False}\n",
    "rag_node(state)"
   ]
  },
  {
   "cell_type": "markdown",
   "id": "c4535823",
   "metadata": {},
   "source": [
    "### 🤖 LLM Node — Other Answers"
   ]
  },
  {
   "cell_type": "code",
   "execution_count": 15,
   "id": "b249650c",
   "metadata": {},
   "outputs": [],
   "source": [
    "def llm_node(state: AgentState):\n",
    "    print(\"🤖 LLM Node (Science Bot) running\")\n",
    "    \n",
    "    question = state[\"messages\"][0]  # Use the latest question from the state\n",
    "\n",
    "    # Friendly and simple prompt\n",
    "    complete_query = (\n",
    "        \"You are a friendly science tutor for kids. \"\n",
    "        \"Answer the following question using your general science knowledge in 2-3 short, simple sentences. \"\n",
    "        f\"Question: {question}\"\n",
    "    )\n",
    "\n",
    "    response = model.invoke(complete_query)\n",
    "\n",
    "    return {\"messages\": [response.content]}\n"
   ]
  },
  {
   "cell_type": "code",
   "execution_count": 16,
   "id": "9c1c0daf",
   "metadata": {},
   "outputs": [
    {
     "name": "stdout",
     "output_type": "stream",
     "text": [
      "🤖 LLM Node (Science Bot) running\n"
     ]
    },
    {
     "data": {
      "text/plain": [
       "{'messages': ['<think>\\nOkay, so I need to figure out the best place to visit in Canada. Hmm, I\\'m not super familiar with all the places there, but I know a few things. Let me start by recalling what I know about Canada. It\\'s a big country with lots of different landscapes and cities. I remember hearing about Niagara Falls, which is a famous waterfall. That\\'s probably a popular spot for tourists because waterfalls are usually beautiful and can be fun to visit.\\n\\nThen there\\'s Toronto, which is a major city. I think it\\'s the most populous city in Canada and has a lot of cultural attractions. Maybe there are museums or tall buildings like the CN Tower. That could be interesting for someone who likes city life and sightseeing. But I\\'m not sure if that\\'s the best place or just one of many options.\\n\\nI also remember something about the Rocky Mountains in Canada. Places like Banff and Jasper come to mind. Those areas are known for their natural beauty, mountains, and outdoor activities like hiking and skiing. That sounds appealing for someone who loves nature and adventure. Plus, the scenery there is supposed to be stunning with lakes and forests.\\n\\nAnother thought is about Vancouver. It\\'s on the west coast and I think it\\'s known for being diverse and having a nice climate. There might be parks and waterfront areas there. Maybe places like Stanley Park or Granville Island. That could be a good mix of city and nature.\\n\\nWait, there\\'s also Montreal and Quebec City, which have a lot of historical significance and French influence. They might have old architecture and cultural festivals. That could be a great place for someone interested in history and different cultures.\\n\\nI\\'m trying to decide which of these is the \"best.\" It probably depends on what someone is interested in. If they like nature and outdoor activities, the Rockies or Niagara Falls might be better. If they prefer city life and cultural experiences, Toronto, Vancouver, or Montreal could be the way to go.\\n\\nI should also consider other factors like accessibility, time of year, and personal preferences. For example, Niagara Falls is in Ontario, near the U.S. border, so it might be easier to visit from certain areas. The Rockies are more out west, so it might require more travel time.\\n\\nIn summary, the best place to visit in Canada likely varies based on individual interests. If someone enjoys nature and outdoor activities, Banff or Jasper in the Rockies would be ideal. If they prefer city attractions and cultural experiences, Toronto or Vancouver might be better. Niagara Falls is a great natural wonder that\\'s also worth visiting. So, the answer should probably mention a couple of these places and explain why they\\'re great options.\\n</think>\\n\\nThe best places to visit in Canada depend on your interests! For nature lovers, Banff and Jasper in the Rocky Mountains offer stunning landscapes and outdoor adventures. If you prefer city life and culture, Toronto and Vancouver provide vibrant attractions and diversity. Niagara Falls is a must-see natural wonder, especially if you\\'re near the Ontario area. Each destination offers unique experiences, so choose based on what you enjoy most!']}"
      ]
     },
     "execution_count": 16,
     "metadata": {},
     "output_type": "execute_result"
    }
   ],
   "source": [
    "state = {\"messages\": [\"What is the best place to visit Canada?\"], \"validated\": False}\n",
    "llm_node(state)"
   ]
  },
  {
   "cell_type": "markdown",
   "id": "e887f6dc",
   "metadata": {},
   "source": [
    "### 🌐 Web Search Node — Real-Time Info \n"
   ]
  },
  {
   "cell_type": "code",
   "execution_count": 17,
   "id": "c8a4c869",
   "metadata": {},
   "outputs": [],
   "source": [
    "from tavily import TavilyClient\n",
    "import os\n",
    "\n",
    "# Initialize the Tavily API key securely\n",
    "tavily_client = TavilyClient(api_key=TAVILY_API_KEY)\n",
    "\n",
    "# 🌐 WEB NODE for Science Bot\n",
    "def web_node(state: dict) -> dict:\n",
    "    print(\"🌐 -> Web Crawler (Tavily Search) Running\")\n",
    "\n",
    "    question = state[\"messages\"][0]\n",
    "\n",
    "    # Tavily Search\n",
    "    response = tavily_client.search(\n",
    "        query=question,\n",
    "        search_depth=\"advanced\",            # Use \"basic\" if you want it faster\n",
    "        include_answer=True,\n",
    "        include_raw_content=False\n",
    "    )\n",
    "\n",
    "    # Extract concise answer or fallback\n",
    "    final_answer = response.get(\"answer\", \"Hmm... I couldn’t find the answer right now.\")\n",
    "\n",
    "    return {\"messages\": [final_answer]}"
   ]
  },
  {
   "cell_type": "code",
   "execution_count": 18,
   "id": "694032a4",
   "metadata": {},
   "outputs": [
    {
     "name": "stdout",
     "output_type": "stream",
     "text": [
      "🌐 -> Web Crawler (Tavily Search) Running\n"
     ]
    },
    {
     "data": {
      "text/plain": [
       "{'messages': ['Toronto, Vancouver, and Banff are top places to visit in Canada. Each offers unique attractions and experiences.']}"
      ]
     },
     "execution_count": 18,
     "metadata": {},
     "output_type": "execute_result"
    }
   ],
   "source": [
    "state = {\"messages\": [\"What is the best place to visit Canada?\"], \"validated\": False}\n",
    "web_node(state)"
   ]
  },
  {
   "cell_type": "markdown",
   "id": "508e2341",
   "metadata": {},
   "source": [
    "### ✅ Validation Node — Checking Answer Quality\n"
   ]
  },
  {
   "cell_type": "code",
   "execution_count": 19,
   "id": "21405aa0",
   "metadata": {},
   "outputs": [],
   "source": [
    "def validation_with_llm(state: AgentState):\n",
    "    print(\"✅ Validation running...\")\n",
    "\n",
    "    original_question = state[\"messages\"][0]\n",
    "    generated_response = state[\"messages\"][-1]\n",
    "\n",
    "    prompt = f\"\"\"\n",
    "You are a strict teacher evaluating answers for school children.\n",
    "\n",
    "Evaluate the following generated response to the question.\n",
    "\n",
    "Criteria:\n",
    "- The response must directly answer the question.\n",
    "- The response must be easy to understand for a 10-year-old.\n",
    "- The response must be short (under 4 lines).\n",
    "- When the question asks for \"latest news,\" the response must include a clear mention of recent or current events, dates, or time frames.\n",
    "- If any of the above is not fully met, reply NO.\n",
    "\n",
    "Question: \"{original_question}\"\n",
    "Response: \"{generated_response}\"\n",
    "\n",
    "Reply YES or NO only.\n",
    "\"\"\"\n",
    "\n",
    "    result = model.invoke(prompt).content.strip().lower()\n",
    "\n",
    "    # Extract only yes or no\n",
    "    final_result = \"yes\" if \"yes\" in result else \"no\"\n",
    "    print(\"Validation result:\", final_result)\n",
    "\n",
    "    return {\n",
    "        \"validated\": final_result == \"yes\",\n",
    "        \"messages\": state[\"messages\"]\n",
    "    }\n"
   ]
  },
  {
   "cell_type": "markdown",
   "id": "dc57bf5c",
   "metadata": {},
   "source": [
    "### Putting It All Together — Building the Agent Workflow"
   ]
  },
  {
   "cell_type": "code",
   "execution_count": 20,
   "id": "d4242ec3",
   "metadata": {},
   "outputs": [],
   "source": [
    "from langgraph.graph import StateGraph, END\n",
    "\n",
    "builder = StateGraph(AgentState)\n",
    "\n",
    "# 1. Entry point\n",
    "builder.set_entry_point(\"Supervisor\")\n",
    "\n",
    "# 2. Add nodes\n",
    "builder.add_node(\"Supervisor\", supervisor_node)\n",
    "builder.add_node(\"RAG Call\", rag_node)\n",
    "builder.add_node(\"LLM Call\", llm_node)\n",
    "builder.add_node(\"WEB Call\", web_node)\n",
    "builder.add_node(\"Validation\", validation_with_llm)\n",
    "\n",
    "# 3. Supervisor → Router\n",
    "builder.add_conditional_edges(\"Supervisor\", router, {\n",
    "    \"RAG Call\": \"RAG Call\",\n",
    "    \"LLM Call\": \"LLM Call\",\n",
    "    \"WEB Call\": \"WEB Call\"\n",
    "    #\"Final\": END  # if already validated\n",
    "})\n",
    "\n",
    "# 4. Generation → Validation\n",
    "builder.add_edge(\"RAG Call\", \"Validation\")\n",
    "builder.add_edge(\"LLM Call\", \"Validation\")\n",
    "builder.add_edge(\"WEB Call\", \"Validation\")\n",
    "\n",
    "# 5. Validation → Supervisor or END\n",
    "builder.add_conditional_edges(\n",
    "    \"Validation\",\n",
    "    lambda state: \"Final\" if state[\"validated\"] else \"Supervisor\",\n",
    "    {\n",
    "        \"Final\": END,\n",
    "        \"Supervisor\": \"Supervisor\"\n",
    "    }\n",
    ")\n",
    "\n",
    "# 6. Compile\n",
    "science_bot_app = builder.compile()"
   ]
  },
  {
   "cell_type": "markdown",
   "id": "0f5c2fa0",
   "metadata": {},
   "source": [
    "### Running KidSciBot and Viewing the Flow"
   ]
  },
  {
   "cell_type": "code",
   "execution_count": 21,
   "id": "4a5318fb",
   "metadata": {},
   "outputs": [
    {
     "data": {
      "image/png": "[encoded data removed]",
      "text/plain": [
       "<IPython.core.display.Image object>"
      ]
     },
     "metadata": {},
     "output_type": "display_data"
    }
   ],
   "source": [
    "from IPython.display import Image, display\n",
    "\n",
    "# Display the graph visualization\n",
    "display(Image(science_bot_app.get_graph().draw_mermaid_png()))"
   ]
  },
  {
   "cell_type": "markdown",
   "id": "ab7c077e",
   "metadata": {},
   "source": [
    "### Invoke the bot on each question and print the final answer\n"
   ]
  },
  {
   "cell_type": "code",
   "execution_count": 25,
   "id": "b14842d9",
   "metadata": {},
   "outputs": [
    {
     "name": "stdout",
     "output_type": "stream",
     "text": [
      "📚 Testing Science Question (RAG Node):\n",
      "🧠 Supervisor received question: Why do we need water?\n",
      "🧭 Topic classified as: Science\n",
      "🔀 Router running...\n",
      "📚 RAG Node (Science Bot) running\n",
      "✅ Validation running...\n",
      "Validation result: yes\n",
      "✅ Final Answer: <think>\n",
      "Okay, so I need to figure out why we need water based on the given context. Let me read through the context again to make sure I understand it properly.\n",
      "\n",
      "The context starts by talking about freshwater, which is found in ice sheets, rivers, lakes, and underground. It mentions that we need freshwater for various activities. Then it specifically points out that we need water for drinking. It also talks about people having to walk long distances to get drinking water, which means access isn't the same for everyone. It emphasizes the importance of conserving water and using it wisely, and also preventing pollution so that water remains fit for use.\n",
      "\n",
      "So, the question is asking why we need water. From the context, the main points are:\n",
      "\n",
      "1. We need water for drinking.\n",
      "2. Water is used for watering plants.\n",
      "3. Not everyone has easy access to water, so we must conserve and protect it.\n",
      "\n",
      "I should structure the answer to include these points in a friendly and simple way, keeping it to 2-3 short sentences. I should make sure to mention drinking, watering plants, and maybe hint at conservation without making it too complicated.\n",
      "\n",
      "Let me try to put that together. Maybe start with the most essential need, which is drinking, then mention watering plants, and finally touch on the importance of conservation and protection against pollution.\n",
      "\n",
      "Wait, the context also mentions that water is needed for activities beyond just drinking, like watering plants. So I should include that as another reason. Also, the part about access and conservation is more about why we need to manage water, but the question is about why we need water, so maybe focus on the uses rather than the management.\n",
      "\n",
      "So, the answer should highlight the two main uses: drinking and watering plants. Maybe also mention that it's essential for life, tying into the necessity.\n",
      "\n",
      "Putting it all together, I can say something like: We need water to drink to stay alive, to water plants so they can grow, and it's important to use it wisely and keep it clean so everyone can have access.\n",
      "\n",
      "Wait, but the question is just asking why we need water, not how to manage it. So maybe focus on the uses: drinking and watering plants. The conservation part is more about the how, not the why.\n",
      "\n",
      "So, the answer could be: We need water to drink and to water plants. It's essential for life and growth.\n",
      "\n",
      "But looking back at the context, it specifically lists \"We need water for drinking\" and \"Watering the plants\" as bullet points, so those are the two main reasons. So the answer should include both.\n",
      "\n",
      "I think that's a solid approach. Keep it simple, mention both uses, and maybe add a bit about its essentialness.\n",
      "</think>\n",
      "\n",
      "We need water to drink and to water plants. It's essential for life and growth. \n",
      "\n"
     ]
    }
   ],
   "source": [
    "\n",
    "science_question = { \"messages\": [\"Why do we need water?\"], \"validated\": False}\n",
    "\n",
    "print(\"📚 Testing Science Question (RAG Node):\")\n",
    "science_output = science_bot_app.invoke(science_question)\n",
    "print(\"✅ Final Answer:\", science_output[\"messages\"][-1], \"\\n\")"
   ]
  },
  {
   "cell_type": "code",
   "execution_count": null,
   "id": "788d34c6",
   "metadata": {},
   "outputs": [
    {
     "name": "stdout",
     "output_type": "stream",
     "text": [
      "🌐 Testing Current Event Question (WEB Node):\n",
      "🧠 Supervisor received question: What is the most important scientific discovery announced today?\n",
      "🧭 Topic classified as: Science\n",
      "🔀 Router running...\n",
      "📚 RAG Node (Science Bot) running\n",
      "✅ Validation running...\n",
      "Validation result: yes\n",
      "✅ Final Answer: <think>\n",
      "Okay, so I need to figure out the most important scientific discovery announced today based on the given context. Let me read through the context again to make sure I understand it correctly.\n",
      "\n",
      "The context includes a few pages from a science textbook for grade 6. On page 221, it talks about how electrical and electronic equipment, like mobile phones, contain minerals such as gold, silver, copper, cobalt, etc. It also mentions naturally occurring gold and some minerals found in nature.\n",
      "\n",
      "Then, on page 226, it discusses natural resources, listing air, water, energy from the Sun, forests, soil, rocks, minerals, and fossil fuels as important ones. It emphasizes that these resources are provided by nature and are essential for our survival.\n",
      "\n",
      "Page 216 highlights the importance of the Sun as the main source of energy on Earth. It explains how plants use sunlight to produce food through photosynthesis, which in turn supports animals and humans.\n",
      "\n",
      "Now, the question is asking for the most important scientific discovery announced today. But looking at the context, it's more about explaining natural resources and the Sun's role rather than a specific discovery. However, I need to frame an answer based on this information.\n",
      "\n",
      "Since the context doesn't mention a specific discovery, I might need to infer. The Sun being the main energy source is a fundamental concept, so maybe that's the key point. Alternatively, the use of minerals in technology could be considered, but that's more about application than a discovery.\n",
      "\n",
      "I think the most important point here is the Sun's role as the primary energy source, as it's crucial for life on Earth and supports the food chain. So, I'll focus on that in the answer.\n",
      "</think>\n",
      "\n",
      "The most important scientific discovery announced today is the Sun being recognized as the main source of energy for our planet, essential for life and the food chain. \n",
      "\n"
     ]
    }
   ],
   "source": [
    "current_event_question = { \"messages\": [\"What is the most important scientific discovery announced today?\"], \"validated\": False}\n",
    "print(\"🌐 Testing Current Event Question (WEB Node):\")\n",
    "web_output = science_bot_app.invoke(current_event_question)\n",
    "print(\"✅ Final Answer:\", web_output[\"messages\"][-1], \"\\n\")"
   ]
  },
  {
   "cell_type": "code",
   "execution_count": 24,
   "id": "0ca87e7e",
   "metadata": {},
   "outputs": [
    {
     "name": "stdout",
     "output_type": "stream",
     "text": [
      "🤖 Testing General Question (LLM Node):\n",
      "🧠 Supervisor received question: Who was Albert Einstein?\n",
      "🧭 Topic classified as: Science\n",
      "🔀 Router running...\n",
      "📚 RAG Node (Science Bot) running\n",
      "✅ Validation running...\n",
      "Validation result: no\n",
      "🧠 Supervisor received question: <think>\n",
      "Okay, so I need to figure out how to answer the question \"Who was Albert Einstein?\" using the provided context. Let me start by reading through the context carefully. \n",
      "\n",
      "The context given is from a Grade 6 science textbook, specifically chapters about the water cycle and the Sun's role on Earth. It talks about evaporation, the Sun being the main energy source, plants producing food, and so on. There's also a part about observing things with a magnifying lens and soil components. \n",
      "\n",
      "Wait a minute, the question is about Albert Einstein, but the context provided doesn't mention him at all. It's all about the water cycle, Sun, and soil observations. So, there's no information here that relates to Einstein. \n",
      "\n",
      "Hmm, maybe the user made a mistake in providing the context. Since the context doesn't include anything about Einstein, I can't answer the question based on it. I should let the user know that the context doesn't have the necessary information. \n",
      "\n",
      "I should respond in a friendly and simple way, as per the instructions. Maybe suggest that the context provided doesn't include details about Einstein, so I can't answer the question with the given information.\n",
      "</think>\n",
      "\n",
      "The context provided doesn't include information about Albert Einstein, so I can't answer the question based on it.\n",
      "🧭 Topic classified as: Not Related\n",
      "🔀 Router running...\n",
      "🤖 LLM Node (Science Bot) running\n",
      "✅ Validation running...\n",
      "Validation result: yes\n",
      "✅ Final Answer: <think>\n",
      "Okay, so I need to figure out who Albert Einstein was. I remember hearing his name a lot, especially in school. He was a scientist, right? I think he had something to do with physics. Maybe he discovered something important? I've heard the name \"Einstein\" associated with the word \"genius,\" so he must have been really smart.\n",
      "\n",
      "Wait, wasn't he the one who came up with the theory of relativity? I think that's it. There's the famous equation E=mc², which I believe he came up with. That equation relates energy and mass, right? So he must have worked on how energy and mass are connected.\n",
      "\n",
      "I also remember something about him having crazy hair, like it was all wild and white. Maybe he was a bit of a character. I think he was born in Germany, but he moved to the United States later in his life. He must have been important because people still talk about him a lot today.\n",
      "\n",
      "Oh, and I think he won a Nobel Prize. Was it for physics? That makes sense because he was a physicist. He probably made some big contributions to science that changed how people understood the universe. Maybe he explained things like space and time in a new way.\n",
      "\n",
      "I'm not entirely sure about all the details, but I know he's one of the most famous scientists ever. His work must have had a huge impact on the world. I should probably look up more about his theories and what exactly he discovered to get a better understanding.\n",
      "</think>\n",
      "\n",
      "Albert Einstein was a renowned German-born physicist who developed the theory of relativity and is famous for the equation E=mc², which links energy and mass. He won the Nobel Prize in Physics for his work and is widely regarded as one of the most influential scientists of the 20th century. His contributions fundamentally changed our understanding of space, time, and energy.\n"
     ]
    }
   ],
   "source": [
    "general_question = {\n",
    "    \"messages\": [\"Who was Albert Einstein?\"],\n",
    "    \"validated\": False\n",
    "}\n",
    "\n",
    "print(\"🤖 Testing General Question (LLM Node):\")\n",
    "llm_output = science_bot_app.invoke(general_question)\n",
    "print(\"✅ Final Answer:\", llm_output[\"messages\"][-1])"
   ]
  }
 ],
 "metadata": {
  "kernelspec": {
   "display_name": "Python 3",
   "language": "python",
   "name": "python3"
  },
  "language_info": {
   "codemirror_mode": {
    "name": "ipython",
    "version": 3
   },
   "file_extension": ".py",
   "mimetype": "text/x-python",
   "name": "python",
   "nbconvert_exporter": "python",
   "pygments_lexer": "ipython3",
   "version": "3.11.13"
  }
 },
 "nbformat": 4,
 "nbformat_minor": 5
}
