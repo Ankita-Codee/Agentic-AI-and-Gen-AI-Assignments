{
 "cells": [
  {
   "cell_type": "markdown",
   "id": "aa1829a7",
   "metadata": {},
   "source": [
    "Assignment:4\n",
    "1. You have to create one supervisor node.\n",
    "2. create one router function\n",
    "3. create three more node \n",
    "   3.1 llm call (llm node)\n",
    "   3.2 RAG (rag node)\n",
    "   3.3 web crawler(fetch the info in realtime from internet)\n",
    "4. created one more node after this for validation for generated output --> explore the validation part how to do that\n",
    "5. if validation going to be failed in that case again go to supervioser node and then supervisor node will again decide what needs to be call next\n",
    "6. once the validation will pass then only generate the final output"
   ]
  },
  {
   "cell_type": "code",
   "execution_count": 127,
   "id": "3b9161db",
   "metadata": {},
   "outputs": [],
   "source": [
    "import os\n",
    "from dotenv import load_dotenv\n",
    "\n",
    "# Load environment variables from .env file\n",
    "load_dotenv()\n",
    "\n",
    "GOOGLE_GEMINI_API_KEY = os.getenv(\"GOOGLE_API_KEY\")\n",
    "TAVILY_API_KEY = os.getenv(\"TAVILY_API_KEY\")"
   ]
  },
  {
   "cell_type": "code",
   "execution_count": 128,
   "id": "f96195d0",
   "metadata": {},
   "outputs": [
    {
     "name": "stdout",
     "output_type": "stream",
     "text": [
      "API keys loaded successfully!\n"
     ]
    }
   ],
   "source": [
    "if GOOGLE_GEMINI_API_KEY and TAVILY_API_KEY:\n",
    "    print(\"API keys loaded successfully!\")\n",
    "else:\n",
    "    print(\"Error: Missing API keys. Please check your .env file.\")"
   ]
  },
  {
   "cell_type": "markdown",
   "id": "53a417b2",
   "metadata": {},
   "source": [
    "### Configure the model"
   ]
  },
  {
   "cell_type": "code",
   "execution_count": 129,
   "id": "e08ff9de",
   "metadata": {},
   "outputs": [
    {
     "data": {
      "text/plain": [
       "AIMessage(content='Hi there! How can I help you today?', additional_kwargs={}, response_metadata={'prompt_feedback': {'block_reason': 0, 'safety_ratings': []}, 'finish_reason': 'STOP', 'model_name': 'gemini-1.5-flash', 'safety_ratings': []}, id='run--f7fd36ca-bed7-4384-817a-61932c6233c5-0', usage_metadata={'input_tokens': 1, 'output_tokens': 11, 'total_tokens': 12, 'input_token_details': {'cache_read': 0}})"
      ]
     },
     "execution_count": 129,
     "metadata": {},
     "output_type": "execute_result"
    }
   ],
   "source": [
    "# Loading the model\n",
    "from langchain_google_genai import ChatGoogleGenerativeAI\n",
    "model = ChatGoogleGenerativeAI(model='gemini-1.5-flash')\n",
    "output = model.invoke(\"Hi\")\n",
    "output"
   ]
  },
  {
   "cell_type": "markdown",
   "id": "592fc0d8",
   "metadata": {},
   "source": [
    "### Configure the Embedding Model"
   ]
  },
  {
   "cell_type": "code",
   "execution_count": 130,
   "id": "4d986feb",
   "metadata": {},
   "outputs": [
    {
     "data": {
      "text/plain": [
       "384"
      ]
     },
     "execution_count": 130,
     "metadata": {},
     "output_type": "execute_result"
    }
   ],
   "source": [
    "from langchain_huggingface import HuggingFaceEmbeddings\n",
    "embeddings = HuggingFaceEmbeddings(model_name = \"BAAI/bge-small-en\")\n",
    "len(embeddings.embed_query(\"hi\"))"
   ]
  },
  {
   "cell_type": "markdown",
   "id": "40b738b8",
   "metadata": {},
   "source": [
    "### Load the data and embed the document"
   ]
  },
  {
   "cell_type": "code",
   "execution_count": 4,
   "id": "68b817e2",
   "metadata": {},
   "outputs": [],
   "source": [
    "from langchain_community.document_loaders import PyPDFLoader\n",
    "from langchain_community.vectorstores import Chroma\n",
    "from langchain.text_splitter import RecursiveCharacterTextSplitter\n",
    "\n",
    "FILE_PATH = \"/Users/ankita/Documents/Krish Naik Academy/Agentic Batch 2/Langraph/data/science.pdf\"  # Change this to your PDF path\n",
    "loader = PyPDFLoader(FILE_PATH)\n",
    "docs = loader.load()"
   ]
  },
  {
   "cell_type": "code",
   "execution_count": 142,
   "id": "2db912f6",
   "metadata": {},
   "outputs": [],
   "source": [
    "#docs"
   ]
  },
  {
   "cell_type": "code",
   "execution_count": 7,
   "id": "0c48deab",
   "metadata": {},
   "outputs": [],
   "source": [
    "text_splitter=RecursiveCharacterTextSplitter(chunk_size=800,chunk_overlap=50)\n",
    "new_docs = text_splitter.split_documents(docs)\n",
    "new_docs\n",
    "\n",
    "db=Chroma.from_documents(new_docs,embeddings)\n",
    "retriever=db.as_retriever(search_kwargs={\"k\": 3})"
   ]
  },
  {
   "cell_type": "code",
   "execution_count": 8,
   "id": "0222ad42",
   "metadata": {},
   "outputs": [
    {
     "data": {
      "text/plain": [
       "[Document(metadata={'producer': 'iLovePDF', 'page_label': '166', 'creationdate': '', 'moddate': '2025-06-13T05:37:33+00:00', 'creator': 'PyPDF', 'source': '/Users/ankita/Documents/Krish Naik Academy/Agentic Batch 2/Langraph/data/science.pdf', 'page': 165, 'total_pages': 272}, page_content='the digital weighing balance. Will it increase or decrease or \\nremain the same? \\nDew drops on plants\\nChapter 8.indd   148 10/4/2024   3:12:01 PM\\nReprint 2025-26'),\n",
       " Document(metadata={'total_pages': 272, 'page_label': '166', 'page': 165, 'creationdate': '', 'moddate': '2025-06-13T05:37:33+00:00', 'creator': 'PyPDF', 'source': '/Users/ankita/Documents/Krish Naik Academy/Agentic Batch 2/Langraph/data/science.pdf', 'producer': 'iLovePDF'}, page_content='the digital weighing balance. Will it increase or decrease or \\nremain the same? \\nDew drops on plants\\nChapter 8.indd   148 10/4/2024   3:12:01 PM\\nReprint 2025-26'),\n",
       " Document(metadata={'moddate': '2025-06-13T05:37:33+00:00', 'source': '/Users/ankita/Documents/Krish Naik Academy/Agentic Batch 2/Langraph/data/science.pdf', 'page_label': '127', 'producer': 'iLovePDF', 'total_pages': 272, 'page': 126, 'creationdate': '', 'creator': 'PyPDF'}, page_content='Wooden board\\n Window glass\\nMaterials Around Us\\nChapter 6.indd   109 10/4/2024   3:15:28 PM\\nReprint 2025-26')]"
      ]
     },
     "execution_count": 8,
     "metadata": {},
     "output_type": "execute_result"
    }
   ],
   "source": [
    "retriever.invoke(\"industrial growth of usa?\")"
   ]
  },
  {
   "cell_type": "markdown",
   "id": "f9e7424f",
   "metadata": {},
   "source": [
    "### Creating Agent"
   ]
  },
  {
   "cell_type": "markdown",
   "id": "2ff58667",
   "metadata": {},
   "source": [
    "### Supervisor Node — Classifying the Question Topic\n"
   ]
  },
  {
   "cell_type": "code",
   "execution_count": 131,
   "id": "45553a25",
   "metadata": {},
   "outputs": [],
   "source": [
    "from pydantic import BaseModel, Field\n",
    "from langchain_core.prompts import PromptTemplate\n",
    "from langchain.output_parsers import PydanticOutputParser\n",
    "from langchain_core.messages import BaseMessage\n",
    "from typing import TypedDict, Annotated, Sequence\n",
    "import operator\n",
    "\n",
    "class ScienceTopicParser(BaseModel):\n",
    "    Topic: str = Field(description=\"Is the topic related to science? (Science or Not Related)\")\n",
    "\n",
    "parser = PydanticOutputParser(pydantic_object=ScienceTopicParser)\n",
    "\n",
    "from typing import TypedDict, Annotated, Sequence\n",
    "from langchain_core.messages import BaseMessage\n",
    "import operator\n",
    "\n",
    "class AgentState(TypedDict):\n",
    "    messages: Annotated[Sequence[str], operator.add]\n",
    "    validated: bool\n",
    "\n",
    "def supervisor_node(state:AgentState):\n",
    "    question = state[\"messages\"][-1]\n",
    "    print(\"🧠 Supervisor received question:\", question)\n",
    "\n",
    "    template = \"\"\"\n",
    "    Your task is to classify the user query into one of the following categories: [Science, Not Related].\n",
    "    Only return the category name in the format specified.\n",
    "\n",
    "    User query: {question}\n",
    "\n",
    "    {format_instructions}\n",
    "    \"\"\"\n",
    "\n",
    "    prompt = PromptTemplate(\n",
    "        template=template,\n",
    "        input_variables=[\"question\"],\n",
    "        partial_variables={\"format_instructions\": parser.get_format_instructions()}\n",
    "    )\n",
    "\n",
    "    chain = prompt | model | parser\n",
    "    response = chain.invoke({\"question\": question})\n",
    "\n",
    "    print(\"🧭 Topic classified as:\", response.Topic)\n",
    "\n"
   ]
  },
  {
   "cell_type": "markdown",
   "id": "29f6a4e4",
   "metadata": {},
   "source": [
    "### Router Function — Deciding Which Node to Call Next"
   ]
  },
  {
   "cell_type": "code",
   "execution_count": 132,
   "id": "31b368a2",
   "metadata": {},
   "outputs": [],
   "source": [
    "def router(state: AgentState):\n",
    "    print(\"🛣️ Router running...\")\n",
    "    \n",
    "    original_message = state[\"messages\"][0].lower()\n",
    "    last_message = state[\"messages\"][-1].lower()\n",
    "\n",
    "    print(\"last_message:\", last_message)\n",
    "    \n",
    "    if \"science\" in last_message:\n",
    "        return \"RAG Call\"\n",
    "    \n",
    "    # If it's asking about recent or current information\n",
    "    if any(word in original_message for word in [\"current\", \"latest\", \"today\", \"news\", \"now\"]):\n",
    "        return \"WEB Call\"\n",
    "    \n",
    "    # Fallback\n",
    "    return \"LLM Call\""
   ]
  },
  {
   "cell_type": "markdown",
   "id": "2f24f35e",
   "metadata": {},
   "source": [
    "### RAG Node — Retrieve and Generate Science Answers from PDFs\n"
   ]
  },
  {
   "cell_type": "code",
   "execution_count": 133,
   "id": "d71713e7",
   "metadata": {},
   "outputs": [],
   "source": [
    "from langchain_core.prompts import PromptTemplate\n",
    "from langchain_core.runnables import RunnablePassthrough\n",
    "from langchain_core.output_parsers import StrOutputParser\n",
    "\n",
    "def format_docs(docs):\n",
    "    return \"\\n\\n\".join(doc.page_content for doc in docs)\n",
    "\n",
    "def rag_node(state: AgentState):\n",
    "    print(\"🔬 RAG Node (Science Bot) running\")\n",
    "    \n",
    "    question = state[\"messages\"][0]  # Get the latest question\n",
    "\n",
    "    # Prompt template tailored for science questions\n",
    "    prompt = PromptTemplate(\n",
    "        template=\"\"\"You are a science tutor for school kids.\n",
    "Use the following context from a science textbook to answer the question. \n",
    "Keep your answer friendly, simple, and in 2-3 short sentences.\n",
    "\n",
    "Question: {question}\n",
    "\n",
    "Context:\n",
    "{context}\n",
    "\n",
    "Answer:\"\"\",\n",
    "        input_variables=[\"context\", \"question\"]\n",
    "    )\n",
    "\n",
    "    # RAG pipeline: retrieve docs, build prompt, run model\n",
    "    rag_chain = (\n",
    "        {\"context\": retriever | format_docs, \"question\": RunnablePassthrough()}\n",
    "        | prompt\n",
    "        | model\n",
    "        | StrOutputParser()\n",
    "    )\n",
    "\n",
    "    result = rag_chain.invoke(question)\n",
    "\n",
    "    return {\"messages\": [result]}\n"
   ]
  },
  {
   "cell_type": "markdown",
   "id": "c4535823",
   "metadata": {},
   "source": [
    "### LLM Node — Other Answers"
   ]
  },
  {
   "cell_type": "code",
   "execution_count": 134,
   "id": "b249650c",
   "metadata": {},
   "outputs": [],
   "source": [
    "def llm_node(state: AgentState):\n",
    "    print(\"🤖 LLM Node (Science Bot) running\")\n",
    "    \n",
    "    question = state[\"messages\"][0]  # Use the latest question from the state\n",
    "\n",
    "    # Friendly and simple prompt\n",
    "    complete_query = (\n",
    "        \"You are a friendly science tutor for kids. \"\n",
    "        \"Answer the following question using your general science knowledge in 2-3 short, simple sentences. \"\n",
    "        f\"Question: {question}\"\n",
    "    )\n",
    "\n",
    "    response = model.invoke(complete_query)\n",
    "\n",
    "    return {\"messages\": [response.content]}"
   ]
  },
  {
   "cell_type": "markdown",
   "id": "e887f6dc",
   "metadata": {},
   "source": [
    "### Web Search Node — Real-Time Info 🌐\n"
   ]
  },
  {
   "cell_type": "code",
   "execution_count": 135,
   "id": "c8a4c869",
   "metadata": {},
   "outputs": [],
   "source": [
    "from tavily import TavilyClient\n",
    "import os\n",
    "\n",
    "# Initialize the Tavily API key securely\n",
    "tavily_client = TavilyClient(api_key=api_key)\n",
    "\n",
    "# 🌐 WEB NODE for Science Bot\n",
    "def web_node(state: dict) -> dict:\n",
    "    print(\"🌐 -> Web Crawler (Tavily Search) Running\")\n",
    "\n",
    "    question = state[\"messages\"][0]\n",
    "\n",
    "    # Tavily Search\n",
    "    response = tavily_client.search(\n",
    "        query=question,\n",
    "        search_depth=\"advanced\",            # Use \"basic\" if you want it faster\n",
    "        include_answer=True,\n",
    "        include_raw_content=False\n",
    "    )\n",
    "\n",
    "    # Extract concise answer or fallback\n",
    "    final_answer = response.get(\"answer\", \"Hmm... I couldn't find the answer right now.\")\n",
    "\n",
    "    return {\"messages\": [final_answer]}"
   ]
  },
  {
   "cell_type": "markdown",
   "id": "508e2341",
   "metadata": {},
   "source": [
    "### Validation Node — Checking Answer Quality\n"
   ]
  },
  {
   "cell_type": "code",
   "execution_count": 136,
   "id": "88f0239c",
   "metadata": {},
   "outputs": [],
   "source": [
    "def validation_with_llm(state: AgentState):\n",
    "    print(\"🧠 LLM-based Validation running...\")\n",
    "    \n",
    "    original_question = state[\"messages\"][0]\n",
    "    generated_response = state[\"messages\"][-1]\n",
    "\n",
    "    prompt = f\"\"\"\n",
    "You are a teacher evaluating answers for school children.\n",
    "\n",
    "Evaluate the following generated response to the question.\n",
    "Criteria:\n",
    "- Relevant to the original question\n",
    "- Easy to understand for a 10-year-old\n",
    "- Short (under 4 lines)\n",
    "\n",
    "Question: \"{original_question}\"\n",
    "Response: \"{generated_response}\"\n",
    "\n",
    "Reply YES or NO only.\n",
    "\"\"\"\n",
    "\n",
    "    result = model.invoke(prompt).content.strip().lower()\n",
    "    print(\"Validation result:\", result)\n",
    "\n",
    "    return {\n",
    "        \"validated\": \"yes\" in result,\n",
    "        \"messages\": state[\"messages\"]\n",
    "    }"
   ]
  },
  {
   "cell_type": "markdown",
   "id": "dc57bf5c",
   "metadata": {},
   "source": [
    "### Putting It All Together — Building the Agent Workflow"
   ]
  },
  {
   "cell_type": "code",
   "execution_count": 137,
   "id": "d4242ec3",
   "metadata": {},
   "outputs": [],
   "source": [
    "from langgraph.graph import StateGraph, END\n",
    "\n",
    "builder = StateGraph(AgentState)\n",
    "\n",
    "# 1. Entry point\n",
    "builder.set_entry_point(\"Supervisor\")\n",
    "\n",
    "# 2. Add nodes\n",
    "builder.add_node(\"Supervisor\", supervisor_node)\n",
    "builder.add_node(\"RAG Call\", rag_node)\n",
    "builder.add_node(\"LLM Call\", llm_node)\n",
    "builder.add_node(\"WEB Call\", web_node)\n",
    "builder.add_node(\"Validation\", validation_with_llm)\n",
    "\n",
    "# 3. Supervisor → Router\n",
    "builder.add_conditional_edges(\"Supervisor\", router, {\n",
    "    \"RAG Call\": \"RAG Call\",\n",
    "    \"LLM Call\": \"LLM Call\",\n",
    "    \"WEB Call\": \"WEB Call\",\n",
    "    \"Final\": END  # if already validated\n",
    "})\n",
    "\n",
    "# 4. Generation → Validation\n",
    "builder.add_edge(\"RAG Call\", \"Validation\")\n",
    "builder.add_edge(\"LLM Call\", \"Validation\")\n",
    "builder.add_edge(\"WEB Call\", \"Validation\")\n",
    "\n",
    "# 5. Validation → Supervisor or END\n",
    "builder.add_conditional_edges(\n",
    "    \"Validation\",\n",
    "    lambda state: \"Final\" if state[\"validated\"] else \"Supervisor\",\n",
    "    {\n",
    "        \"Final\": END,\n",
    "        \"Supervisor\": \"Supervisor\"\n",
    "    }\n",
    ")\n",
    "\n",
    "# 6. Compile\n",
    "science_bot_app = builder.compile()"
   ]
  },
  {
   "cell_type": "markdown",
   "id": "0f5c2fa0",
   "metadata": {},
   "source": [
    "### Running KidSciBot and Viewing the Flow"
   ]
  },
  {
   "cell_type": "code",
   "execution_count": 140,
   "id": "4a5318fb",
   "metadata": {},
   "outputs": [
    {
     "data": {
      "image/png": "[encoded data removed]",
      "text/plain": [
       "<IPython.core.display.Image object>"
      ]
     },
     "metadata": {},
     "output_type": "display_data"
    },
    {
     "name": "stdout",
     "output_type": "stream",
     "text": [
      "🔬 Testing Science Question (RAG Node):\n",
      "🧠 Supervisor received question: What is photosynthesis?\n",
      "🧭 Topic classified as: Science\n",
      "🛣️ Router running...\n",
      "last_message: what is photosynthesis?\n",
      "🤖 LLM Node (Science Bot) running\n",
      "🧠 LLM-based Validation running...\n",
      "Validation result: yes\n",
      "✅ Final Answer: Photosynthesis is how plants make their food!  They use sunlight, water, and air to create sugary energy and oxygen. \n",
      "\n",
      "🌐 Testing Current Event Question (WEB Node):\n",
      "🧠 Supervisor received question: What is the latest news about Mars mission?\n",
      "🧭 Topic classified as: Science\n",
      "🛣️ Router running...\n",
      "last_message: what is the latest news about mars mission?\n",
      "🌐 -> Web Crawler (Tavily Search) Running\n",
      "🧠 LLM-based Validation running...\n",
      "Validation result: yes\n",
      "✅ Final Answer: NASA plans Mars missions for next year, benefiting SpaceX. NASA's Perseverance rover is part of a mission to return Mars samples. China's spacecraft is collecting samples from an asteroid near Mars. \n",
      "\n",
      "🤖 Testing General Question (LLM Node):\n",
      "🧠 Supervisor received question: Who was Albert Einstein?\n",
      "🧭 Topic classified as: Science\n",
      "🛣️ Router running...\n",
      "last_message: who was albert einstein?\n",
      "🤖 LLM Node (Science Bot) running\n",
      "🧠 LLM-based Validation running...\n",
      "Validation result: yes\n",
      "✅ Final Answer: Albert Einstein was a super-smart scientist!  He figured out lots of important things about how the universe works, like E=mc².\n"
     ]
    }
   ],
   "source": [
    "from IPython.display import Image, display\n",
    "\n",
    "# Display the graph visualization\n",
    "display(Image(science_bot_app.get_graph().draw_mermaid_png()))\n",
    "\n",
    "# Prepare example states for each node type\n",
    "science_question = AgentState(messages=[\"What is photosynthesis?\"], validated=False)\n",
    "current_event_question = AgentState(messages=[\"What is the latest news about Mars mission?\"], validated=False)\n",
    "general_question = AgentState(messages=[\"Who was Albert Einstein?\"], validated=False)\n",
    "\n",
    "# Invoke the bot on each question and print the final answer\n",
    "\n",
    "print(\"🔬 Testing Science Question (RAG Node):\")\n",
    "science_output = science_bot_app.invoke(science_question)\n",
    "print(\"✅ Final Answer:\", science_output[\"messages\"][-1], \"\\n\")\n",
    "\n",
    "print(\"🌐 Testing Current Event Question (WEB Node):\")\n",
    "web_output = science_bot_app.invoke(current_event_question)\n",
    "print(\"✅ Final Answer:\", web_output[\"messages\"][-1], \"\\n\")\n",
    "\n",
    "print(\"🤖 Testing General Question (LLM Node):\")\n",
    "llm_output = science_bot_app.invoke(general_question)\n",
    "print(\"✅ Final Answer:\", llm_output[\"messages\"][-1])\n"
   ]
  }
 ],
 "metadata": {
  "kernelspec": {
   "display_name": "Python 3",
   "language": "python",
   "name": "python3"
  },
  "language_info": {
   "codemirror_mode": {
    "name": "ipython",
    "version": 3
   },
   "file_extension": ".py",
   "mimetype": "text/x-python",
   "name": "python",
   "nbconvert_exporter": "python",
   "pygments_lexer": "ipython3",
   "version": "3.11.13"
  }
 },
 "nbformat": 4,
 "nbformat_minor": 5
}
